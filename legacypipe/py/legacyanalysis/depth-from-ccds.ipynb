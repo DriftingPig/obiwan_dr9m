{
 "cells": [
  {
   "cell_type": "code",
   "execution_count": null,
   "metadata": {},
   "outputs": [],
   "source": [
    "%matplotlib inline\n",
    "import os\n",
    "import sys\n",
    "import pylab as plt\n",
    "import numpy as np\n",
    "from glob import glob\n",
    "import fitsio\n",
    "from collections import Counter\n",
    "from IPython.core.display import HTML"
   ]
  },
  {
   "cell_type": "code",
   "execution_count": null,
   "metadata": {},
   "outputs": [],
   "source": [
    "from astrometry.util.fits import *\n",
    "from astrometry.util.util import *\n",
    "from astrometry.libkd.spherematch import match_radec\n",
    "from tractor import *\n",
    "from astrometry.util.starutil_numpy import *\n",
    "from astrometry.util.plotutils import *"
   ]
  },
  {
   "cell_type": "code",
   "execution_count": null,
   "metadata": {},
   "outputs": [],
   "source": [
    "C1 = fits_table('/global/cfs/cdirs/cosmo/work/legacysurvey/dr9m/survey-ccds-90prime-dr9.kd.fits')\n",
    "C2 = fits_table('/global/cfs/cdirs/cosmo/work/legacysurvey/dr9m/survey-ccds-mosaic-dr9.kd.fits')\n",
    "C3 = fits_table('/global/cfs/cdirs/cosmo/work/legacysurvey/dr9m/survey-ccds-decam-dr9.kd.fits')"
   ]
  },
  {
   "cell_type": "code",
   "execution_count": null,
   "metadata": {},
   "outputs": [],
   "source": [
    "B = fits_table('/global/cfs/cdirs/cosmo/work/legacysurvey/dr9m/survey-bricks.fits.gz')"
   ]
  },
  {
   "cell_type": "code",
   "execution_count": null,
   "metadata": {},
   "outputs": [],
   "source": [
    "Counter(C3.ccd_cuts)"
   ]
  },
  {
   "cell_type": "code",
   "execution_count": null,
   "metadata": {},
   "outputs": [],
   "source": [
    "C3.width[0], C3.height[0]"
   ]
  },
  {
   "cell_type": "code",
   "execution_count": null,
   "metadata": {},
   "outputs": [],
   "source": [
    "brad = np.sqrt(2) * 0.25 / 2."
   ]
  },
  {
   "cell_type": "code",
   "execution_count": null,
   "metadata": {},
   "outputs": [],
   "source": [
    "I1,J1,_ = match_radec(B.ra, B.dec, C1.ra, C1.dec, brad + 4096 * np.sqrt(2) / 2. * 0.454 / 3600)\n",
    "I2,J2,_ = match_radec(B.ra, B.dec, C2.ra, C2.dec, brad + 4096 * np.sqrt(2) / 2. * 0.262 / 3600)\n",
    "I3,J3,_ = match_radec(B.ra, B.dec, C3.ra, C3.dec, brad + np.hypot(4096, 2048) / 2. * 0.262 / 3600)"
   ]
  },
  {
   "cell_type": "code",
   "execution_count": null,
   "metadata": {},
   "outputs": [],
   "source": [
    "II = np.unique(np.hstack((I1,I2,I3)))"
   ]
  },
  {
   "cell_type": "code",
   "execution_count": null,
   "metadata": {},
   "outputs": [],
   "source": [
    "len(II) * 0.25**2"
   ]
  },
  {
   "cell_type": "code",
   "execution_count": null,
   "metadata": {},
   "outputs": [],
   "source": [
    "brickarea = (B.dec2 - B.dec1) * (B.ra2 - B.ra1) * np.cos(np.deg2rad((B.dec1+B.dec2)/2.))"
   ]
  },
  {
   "cell_type": "code",
   "execution_count": null,
   "metadata": {},
   "outputs": [],
   "source": [
    "np.sum(brickarea[II])"
   ]
  },
  {
   "cell_type": "code",
   "execution_count": null,
   "metadata": {},
   "outputs": [],
   "source": [
    "#plt.plot(B.ra[II], B.dec[II], 'b.');"
   ]
  },
  {
   "cell_type": "code",
   "execution_count": null,
   "metadata": {},
   "outputs": [],
   "source": [
    "W,H = 2000, 1000\n",
    "ra_center = 120.\n",
    "wcs = anwcs_create_allsky_hammer_aitoff2(ra_center, 0., W, H)"
   ]
  },
  {
   "cell_type": "code",
   "execution_count": null,
   "metadata": {},
   "outputs": [],
   "source": [
    "bb = np.zeros((H,W), bool)\n",
    "ok,xx,yy = wcs.radec2pixelxy(B.ra[II], B.dec[II])\n",
    "print(Counter(ok))\n",
    "xx = np.round(xx-1).astype(int)\n",
    "yy = np.round(yy-1).astype(int)\n",
    "xx.min(), yy.min(), xx.max(), yy.max()"
   ]
  },
  {
   "cell_type": "code",
   "execution_count": null,
   "metadata": {},
   "outputs": [],
   "source": [
    "bb[yy,xx] = True\n",
    "#plt.imshow(bb, origin='lower');"
   ]
  },
  {
   "cell_type": "code",
   "execution_count": null,
   "metadata": {},
   "outputs": [],
   "source": [
    "A1 = fits_table('/global/cfs/cdirs/cosmo/work/legacysurvey/dr9m/ccds-annotated-90prime-dr9.kd.fits')\n",
    "A2 = fits_table('/global/cfs/cdirs/cosmo/work/legacysurvey/dr9m/ccds-annotated-mosaic-dr9.kd.fits')\n",
    "A3 = fits_table('/global/cfs/cdirs/cosmo/work/legacysurvey/dr9m/ccds-annotated-decam-dr9.kd.fits')"
   ]
  },
  {
   "cell_type": "code",
   "execution_count": null,
   "metadata": {},
   "outputs": [],
   "source": [
    "A1.pixscale = 0.454\n",
    "A2.pixscale = 0.262\n",
    "A3.pixscale = 0.262"
   ]
  },
  {
   "cell_type": "code",
   "execution_count": null,
   "metadata": {},
   "outputs": [],
   "source": [
    "A1.ra_lo = A1.ra_center - A1.width/2. * A1.pixscale / 3600. / np.cos(np.deg2rad(A1.dec_center))\n",
    "A1.ra_hi = A1.ra_center + A1.width/2. * A1.pixscale / 3600. / np.cos(np.deg2rad(A1.dec_center))\n",
    "A1.dec_lo = A1.dec_center - A1.height/2. * A1.pixscale / 3600.\n",
    "A1.dec_hi = A1.dec_center + A1.height/2. * A1.pixscale / 3600.\n",
    "\n",
    "A2.ra_lo = A2.ra_center - A2.width/2. * A2.pixscale / 3600. / np.cos(np.deg2rad(A2.dec_center))\n",
    "A2.ra_hi = A2.ra_center + A2.width/2. * A2.pixscale / 3600. / np.cos(np.deg2rad(A2.dec_center))\n",
    "A2.dec_lo = A2.dec_center - A2.height/2. * A2.pixscale / 3600.\n",
    "A2.dec_hi = A2.dec_center + A2.height/2. * A2.pixscale / 3600.\n",
    "\n",
    "A3.ra_lo = A3.ra_center - A3.height/2. * A3.pixscale / 3600. / np.cos(np.deg2rad(A3.dec_center))\n",
    "A3.ra_hi = A3.ra_center + A3.height/2. * A3.pixscale / 3600. / np.cos(np.deg2rad(A3.dec_center))\n",
    "A3.dec_lo = A3.dec_center - A3.width/2. * A3.pixscale / 3600.\n",
    "A3.dec_hi = A3.dec_center + A3.width/2. * A3.pixscale / 3600.\n",
    "\n",
    "A = merge_tables([A1,A2,A3])"
   ]
  },
  {
   "cell_type": "code",
   "execution_count": null,
   "metadata": {},
   "outputs": [],
   "source": [
    "Counter(A.ra_lo < A.ra_hi), Counter(A.dec_lo < A.dec_hi)"
   ]
  },
  {
   "cell_type": "code",
   "execution_count": null,
   "metadata": {},
   "outputs": [],
   "source": [
    "Counter(A.psfnorm_mean > 0)"
   ]
  },
  {
   "cell_type": "code",
   "execution_count": null,
   "metadata": {},
   "outputs": [],
   "source": [
    "A.cut(A.psfnorm_mean > 0)"
   ]
  },
  {
   "cell_type": "code",
   "execution_count": null,
   "metadata": {},
   "outputs": [],
   "source": [
    "A.psfiv = 1./(A.sig1 / A.psfnorm_mean)**2\n",
    "A.galiv = 1./(A.sig1 / A.galnorm_mean)**2"
   ]
  },
  {
   "cell_type": "code",
   "execution_count": null,
   "metadata": {},
   "outputs": [],
   "source": [
    "xx,yy = np.meshgrid(np.arange(W), np.arange(H))\n",
    "ok,rr,dd = wcs.pixelxy2radec(xx, yy)\n",
    "Counter(ok.flat)\n",
    "xx = xx[ok]\n",
    "yy = yy[ok]\n",
    "rr = rr[ok]\n",
    "dd = dd[ok]\n",
    "len(dd)"
   ]
  },
  {
   "cell_type": "code",
   "execution_count": null,
   "metadata": {},
   "outputs": [],
   "source": [
    "#A.radius = np.hypot(A.width, A.height) / 2. * A.pixscale / 3600."
   ]
  },
  {
   "cell_type": "code",
   "execution_count": null,
   "metadata": {},
   "outputs": [],
   "source": [
    "R = 0.454 * np.hypot(4096,4096)/2. / 3600.\n",
    "R"
   ]
  },
  {
   "cell_type": "code",
   "execution_count": null,
   "metadata": {},
   "outputs": [],
   "source": [
    "depths = {}\n",
    "for band in 'grz':\n",
    "    depth = np.zeros((H,W), np.float32)\n",
    "    depths[band] = depth\n",
    "\n",
    "    B = A[A.filter == band]\n",
    "    print(len(B), 'in', band)\n",
    "    I,J,_ = match_radec(rr, dd, B.ra, B.dec, R)\n",
    "    print('Matched', len(I))\n",
    "    K = np.flatnonzero((rr[I] > B.ra_lo[J]) * (rr[I] < B.ra_hi[J]) *\n",
    "                       (dd[I] > B.dec_lo[J]) * (dd[I] < B.dec_hi[J]))\n",
    "    I = I[K]\n",
    "    J = J[K]\n",
    "    print('Contained', len(I))\n",
    "    for x,y,piv in zip(xx[I], yy[I], B.galiv[J]):\n",
    "        depth[y,x] += piv"
   ]
  },
  {
   "cell_type": "code",
   "execution_count": null,
   "metadata": {},
   "outputs": [],
   "source": [
    "from tractor.sfd import SFDMap\n",
    "sfd = SFDMap()\n",
    "filts = ['%s %s' % ('DES', f) for f in 'grz']\n",
    "ebv,ext = sfd.extinction(filts, rr, dd, get_ebv=True)"
   ]
  },
  {
   "cell_type": "code",
   "execution_count": null,
   "metadata": {},
   "outputs": [],
   "source": [
    "ext.shape"
   ]
  },
  {
   "cell_type": "code",
   "execution_count": null,
   "metadata": {},
   "outputs": [],
   "source": [
    "for iband,band in enumerate('grz'):\n",
    "    plt.figure(figsize=(12,8))\n",
    "    plt.subplots_adjust(left=0.05, right=0.95, bottom=0.05, top=0.95)\n",
    "    lo,hi = { 'g':(23.0,25.0), 'r':(22.4,24.4), 'z':(21.5,23.5) }[band]\n",
    "    plt.clf()\n",
    "    depth = -2.5 * (np.log10(5. * 1./np.sqrt(depths[band]))-9.)\n",
    "    extmap = np.zeros_like(depth)\n",
    "    extmap[yy,xx] = ext[:,iband]\n",
    "    depth -= extmap\n",
    "    plt.imshow(depth, origin='lower', vmin=lo, vmax=hi, cmap='RdYlBu')\n",
    "    c = plt.colorbar(orientation='horizontal')\n",
    "    c.set_label('%s-band depth (mag)' % band)\n",
    "\n",
    "    dec_lo = -70\n",
    "        \n",
    "    dec_gridlines = list(range(dec_lo, 90, 10))\n",
    "    dec_gridlines_ras = np.arange(ra_center-180, ra_center+180, 1)\n",
    "    ra_gridlines = range(0, 360, 30)\n",
    "    ra_gridlines_decs = np.arange(dec_lo, 90, 1.)\n",
    "    for d in dec_gridlines:\n",
    "        rr = dec_gridlines_ras\n",
    "        dd = np.zeros_like(rr) + d\n",
    "        ok,x,y = wcs.radec2pixelxy(rr, dd)\n",
    "        plt.plot(x, y, 'k-', alpha=0.1)\n",
    "    for r in ra_gridlines:\n",
    "        dd = ra_gridlines_decs\n",
    "        rr = np.zeros_like(dd) + r\n",
    "        ok,x,y = wcs.radec2pixelxy(rr, dd)\n",
    "        plt.plot(x, y, 'k-', alpha=0.1)\n",
    "\n",
    "    ra_gridlines2 = [ra_center-180, ra_center+180]\n",
    "    ra_gridlines2_decs = np.arange(dec_lo, 91, 1.)\n",
    "    for r in ra_gridlines2:\n",
    "        dd = ra_gridlines2_decs\n",
    "        rr = np.zeros_like(dd) + r\n",
    "        ok,x,y = wcs.radec2pixelxy(rr, dd)\n",
    "        plt.plot(x, y, 'k-', alpha=0.5)\n",
    "    \n",
    "    ra_labels = ra_gridlines\n",
    "    dec_labels = dec_gridlines\n",
    "    ra_labels_dec = -30\n",
    "    dec_labels_ra = ra_center+180\n",
    "    \n",
    "    ok,xi,yi = wcs.radec2pixelxy(ra_labels, ra_labels_dec)\n",
    "    for x,y,v in zip(xi, yi, ra_labels):\n",
    "        plt.text(x, y, '%i'%(v%360), ha='center', va='top', alpha=0.5)\n",
    "    ok,xi,yi = wcs.radec2pixelxy(dec_labels_ra, dec_labels)\n",
    "    for x,y,v in zip(xi, yi, dec_labels):\n",
    "        plt.text(x-20, y, '%+i'%v, ha='right', va='center', alpha=0.5)\n",
    "\n",
    "    # Galactic plane\n",
    "    ll = np.linspace(0., 360., 720)\n",
    "    bb = np.zeros_like(ll)\n",
    "    rr,dd = lbtoradec(ll, bb)\n",
    "    ok,x,y = wcs.radec2pixelxy(rr, dd)\n",
    "    # Plot segments that are above Dec=-30 and not discontinuous\n",
    "    d = np.append([0], np.hypot(np.diff(x), np.diff(y)))\n",
    "    ok = (d < 100)# * (dd > -30)\n",
    "    istart = 0\n",
    "    while istart < len(ok):\n",
    "        while istart < len(ok) and ok[istart] == False:\n",
    "            istart += 1\n",
    "        iend = istart\n",
    "        while iend < len(ok) and ok[iend] == True:\n",
    "            iend += 1\n",
    "        if iend != istart:\n",
    "            #print('Plotting from', istart, 'to', iend, 'ok', ok[istart:iend])\n",
    "            plt.plot(x[istart:iend], y[istart:iend], '-', color='0.6', lw=2)\n",
    "        istart = iend\n",
    "\n",
    "    # Label regions\n",
    "    for r,d,n in [(30, 0, 'DES'),\n",
    "                  (0, 20, 'DECaLS'),\n",
    "                  (180, 10, 'DECaLS'),\n",
    "                  (180, 50, 'MzLS+BASS')]:\n",
    "        ok,x,y = wcs.radec2pixelxy(r, d)\n",
    "        plt.text(x, y, n, fontsize=16, ha='center', va='center')\n",
    "    \n",
    "    plt.xticks([])\n",
    "    plt.yticks([])\n",
    "    #plt.axis('equal');\n",
    "    ax = [0,W, 0.1*H, H]\n",
    "    plt.axis(ax)\n",
    "    plt.axis('equal')\n",
    "    plt.axis(ax)\n",
    "    plt.gca().set_frame_on(False)\n",
    "    plt.savefig('depth-map-%s.png' % band)\n",
    "    plt.show()"
   ]
  }
 ],
 "metadata": {
  "kernelspec": {
   "display_name": "dstn",
   "language": "python",
   "name": "dstn"
  },
  "language_info": {
   "codemirror_mode": {
    "name": "ipython",
    "version": 3
   },
   "file_extension": ".py",
   "mimetype": "text/x-python",
   "name": "python",
   "nbconvert_exporter": "python",
   "pygments_lexer": "ipython3",
   "version": "3.6.6"
  }
 },
 "nbformat": 4,
 "nbformat_minor": 4
}
